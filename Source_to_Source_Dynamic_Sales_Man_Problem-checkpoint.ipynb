{
 "cells": [
  {
   "cell_type": "code",
   "execution_count": 10,
   "id": "f497eeb8",
   "metadata": {},
   "outputs": [
    {
     "name": "stdout",
     "output_type": "stream",
     "text": [
      "0\n"
     ]
    }
   ],
   "source": [
    "import random"
   ]
  },
  {
   "cell_type": "code",
   "execution_count": 14,
   "id": "e2582926",
   "metadata": {},
   "outputs": [
    {
     "name": "stdout",
     "output_type": "stream",
     "text": [
      "[[18 19 10 10 16 15  7  6  5 19  6  3  7 18  1  9  5  5  0 16]\n",
      " [ 7 16  1 12  4 17 18  9 18  5  1 11  1 14  0  6 12 17 10 19]\n",
      " [ 4 19  4 12 18  4 19  2  4  2 15  4 16  1  9 11 14 18  5  2]\n",
      " [12  1  6  7  6  6  2  3  1 10  9  6 11 17 14 15  0  7 18  6]\n",
      " [ 7 16 11 12  4 19 13 18  3 17 18 19 11  5 13 14 15 15  2  5]\n",
      " [ 6  9 19  1  9 12 10 11 15  9  1 18  7 10 14 18  3 11 10 11]\n",
      " [18 11 13  8 15  1 16 14 17  7  9 11 12 13  9 13  1 13  8 15]\n",
      " [17 17  1  6 11  9 13  4  0 16 10 18  8 14 14  7 11 16 16 19]\n",
      " [ 3 17 13 15  2 18 12 17  1 19  0 14  9  8 17 10  5 10 15  9]\n",
      " [17  3  0  0  4  5  9  3  7 15  8 14  6  6  5 16  9 13 16  5]\n",
      " [ 1 12 16  5  0 14  0  1 11  1  5 16  8 12 10  4 16 15 14  3]\n",
      " [ 5  7 11  5  7  0 19 11 14  2 13  2  9  1 19 10 13 12 12 11]\n",
      " [19  1 16 11  4 10  8 12 12 17  6  7  6  7 15 10 17  9  5  5]\n",
      " [ 4  7  7  2  0  7  9 18 18  4  9 16 17  2  1 14 14  6 19 12]\n",
      " [ 2  0 18 15 15  1 12 14 19  4  1  6  3  2 19 14  5 18  6  3]\n",
      " [15  5  4  1 11 14  2 17  3  2  5 15  4 15 13  1 11 10 18 17]\n",
      " [10 16  1  4 11 19  6  2  6  1 11  4 14 12 13  0 10 18 14 17]\n",
      " [11  8 18  4  3  9  4 18 17  0  5  0 15 12 14 10  2  7 13 16]\n",
      " [15  5 13 11  1  4 12  1 11  2  0  5  7 13 10  6  8  6  7  6]\n",
      " [15  7 17  6 12  1 15  0  0  8 15 15 19  0 12 14 12 12  3  8]]\n"
     ]
    }
   ],
   "source": [
    "import numpy as np\n",
    "array = np.random.randint(20, size=(20, 20))\n",
    "print(array)"
   ]
  },
  {
   "cell_type": "code",
   "execution_count": 18,
   "id": "89ab9667",
   "metadata": {},
   "outputs": [],
   "source": [
    "size_of_matrix = (random.randint(1,20))"
   ]
  },
  {
   "cell_type": "code",
   "execution_count": 24,
   "id": "4a2a7005",
   "metadata": {},
   "outputs": [
    {
     "name": "stdout",
     "output_type": "stream",
     "text": [
      "13\n"
     ]
    }
   ],
   "source": [
    "print(size_of_matrix)"
   ]
  },
  {
   "cell_type": "code",
   "execution_count": 50,
   "id": "7c096f79",
   "metadata": {},
   "outputs": [
    {
     "name": "stdout",
     "output_type": "stream",
     "text": [
      "[[0, 0, 0, 0, 0, 0, 0, 0, 0, 0, 0, 0, 0], [0, 0, 0, 0, 0, 0, 0, 0, 0, 0, 0, 0, 0], [0, 0, 0, 0, 0, 0, 0, 0, 0, 0, 0, 0, 0], [0, 0, 0, 0, 0, 0, 0, 0, 0, 0, 0, 0, 0], [0, 0, 0, 0, 0, 0, 0, 0, 0, 0, 0, 0, 0], [0, 0, 0, 0, 0, 0, 0, 0, 0, 0, 0, 0, 0], [0, 0, 0, 0, 0, 0, 0, 0, 0, 0, 0, 0, 0], [0, 0, 0, 0, 0, 0, 0, 0, 0, 0, 0, 0, 0], [0, 0, 0, 0, 0, 0, 0, 0, 0, 0, 0, 0, 0], [0, 0, 0, 0, 0, 0, 0, 0, 0, 0, 0, 0, 0], [0, 0, 0, 0, 0, 0, 0, 0, 0, 0, 0, 0, 0], [0, 0, 0, 0, 0, 0, 0, 0, 0, 0, 0, 0, 0], [0, 0, 0, 0, 0, 0, 0, 0, 0, 0, 0, 0, 0]]\n"
     ]
    }
   ],
   "source": [
    "my_rows, my_cols = (size_of_matrix, size_of_matrix)\n",
    "sub_matrix = [[0]*my_cols]*my_rows\n",
    "print(my_array)"
   ]
  },
  {
   "cell_type": "code",
   "execution_count": 54,
   "id": "b7470135",
   "metadata": {},
   "outputs": [],
   "source": [
    "val = (array[0:size_of_matrix,0:size_of_matrix])"
   ]
  },
  {
   "cell_type": "code",
   "execution_count": 55,
   "id": "06be2d77",
   "metadata": {},
   "outputs": [
    {
     "name": "stdout",
     "output_type": "stream",
     "text": [
      "[[ 8 18 17 15 13  3  1 19  2  5  6  9  1]\n",
      " [16 14  9 11 15 17 16 12 11 11 16  5  0]\n",
      " [15  6  5 10  8  9  1  5  0  3 16 18 17]\n",
      " [ 0 19  4  7 10  0 15  8 10  9 19 17  8]\n",
      " [ 2  0 19  7  8  6  4  9  6 12  7 18 15]\n",
      " [ 6 15  9 14  2  3  7  9 16  0 12  1  4]\n",
      " [ 2 14  4 19  0 16  5 11  5 10 19 19 19]\n",
      " [ 9 18 15 10 11  2  5 17 10 18 12  8 15]\n",
      " [16 16  9 11 10  1 10 15  3 15  2  3 16]\n",
      " [15  0 18 14  8 17 12  6  1  2  9  4  7]\n",
      " [ 8  8 19 14  2 14  5  0 10 18 18  8 11]\n",
      " [ 4  4 10  9 13 11  4 19  1 13  3 10  1]\n",
      " [ 0  6 18  6 19 19 16 16  6  7 19  3  1]]\n"
     ]
    }
   ],
   "source": [
    "print(val)"
   ]
  },
  {
   "cell_type": "code",
   "execution_count": 62,
   "id": "1ba42101",
   "metadata": {},
   "outputs": [
    {
     "ename": "SyntaxError",
     "evalue": "invalid syntax (1975279299.py, line 2)",
     "output_type": "error",
     "traceback": [
      "\u001b[1;36m  Input \u001b[1;32mIn [62]\u001b[1;36m\u001b[0m\n\u001b[1;33m    print(sub_matrix[][])\u001b[0m\n\u001b[1;37m                     ^\u001b[0m\n\u001b[1;31mSyntaxError\u001b[0m\u001b[1;31m:\u001b[0m invalid syntax\n"
     ]
    }
   ],
   "source": [
    "print(type(sub_matrix))\n",
    "print(sub_matrix[][])"
   ]
  },
  {
   "cell_type": "code",
   "execution_count": 67,
   "id": "420cb480",
   "metadata": {},
   "outputs": [
    {
     "name": "stdout",
     "output_type": "stream",
     "text": [
      "[[0 0 0 0 0 0 0 0 0 0 0 0 0]\n",
      " [0 0 0 0 0 0 0 0 0 0 0 0 0]\n",
      " [0 0 0 0 0 0 0 0 0 0 0 0 0]\n",
      " [0 0 0 0 0 0 0 0 0 0 0 0 0]\n",
      " [0 0 0 0 0 0 0 0 0 0 0 0 0]\n",
      " [0 0 0 0 0 0 0 0 0 0 0 0 0]\n",
      " [0 0 0 0 0 0 0 0 0 0 0 0 0]\n",
      " [0 0 0 0 0 0 0 0 0 0 0 0 0]\n",
      " [0 0 0 0 0 0 0 0 0 0 0 0 0]\n",
      " [0 0 0 0 0 0 0 0 0 0 0 0 0]\n",
      " [0 0 0 0 0 0 0 0 0 0 0 0 0]\n",
      " [0 0 0 0 0 0 0 0 0 0 0 0 0]\n",
      " [0 0 0 0 0 0 0 0 0 0 0 0 0]]\n"
     ]
    }
   ],
   "source": [
    "new_array = np.random.randint(1, size=(size_of_matrix, size_of_matrix))\n",
    "print(new_array)"
   ]
  },
  {
   "cell_type": "code",
   "execution_count": 68,
   "id": "1bd69a4f",
   "metadata": {},
   "outputs": [
    {
     "name": "stdout",
     "output_type": "stream",
     "text": [
      "<class 'numpy.ndarray'>\n"
     ]
    }
   ],
   "source": [
    "print(type(new_array))"
   ]
  },
  {
   "cell_type": "code",
   "execution_count": 70,
   "id": "5523bab2",
   "metadata": {},
   "outputs": [
    {
     "name": "stdout",
     "output_type": "stream",
     "text": [
      "[[0 0 0 0 0 0 0 0 0 0 0 0 0]\n",
      " [0 0 0 0 0 0 0 0 0 0 0 0 0]\n",
      " [0 0 0 0 0 0 0 0 0 0 0 0 0]\n",
      " [0 0 0 0 0 0 0 0 0 0 0 0 0]\n",
      " [0 0 0 0 0 0 0 0 0 0 0 0 0]\n",
      " [0 0 0 0 0 0 0 0 0 0 0 0 0]\n",
      " [0 0 0 0 0 0 0 0 0 0 0 0 0]\n",
      " [0 0 0 0 0 0 0 0 0 0 0 0 0]\n",
      " [0 0 0 0 0 0 0 0 0 0 0 0 0]\n",
      " [0 0 0 0 0 0 0 0 0 0 0 0 0]\n",
      " [0 0 0 0 0 0 0 0 0 0 0 0 0]\n",
      " [0 0 0 0 0 0 0 0 0 0 0 0 0]\n",
      " [0 0 0 0 0 0 0 0 0 0 0 0 0]]\n"
     ]
    }
   ],
   "source": [
    "print(new_array[0,:])"
   ]
  },
  {
   "cell_type": "code",
   "execution_count": null,
   "id": "97d583e7",
   "metadata": {},
   "outputs": [],
   "source": []
  },
  {
   "cell_type": "code",
   "execution_count": null,
   "id": "a57c7139",
   "metadata": {},
   "outputs": [],
   "source": []
  },
  {
   "cell_type": "code",
   "execution_count": null,
   "id": "4cb47cb2",
   "metadata": {},
   "outputs": [],
   "source": []
  }
 ],
 "metadata": {
  "kernelspec": {
   "display_name": "Python 3 (ipykernel)",
   "language": "python",
   "name": "python3"
  },
  "language_info": {
   "codemirror_mode": {
    "name": "ipython",
    "version": 3
   },
   "file_extension": ".py",
   "mimetype": "text/x-python",
   "name": "python",
   "nbconvert_exporter": "python",
   "pygments_lexer": "ipython3",
   "version": "3.9.12"
  }
 },
 "nbformat": 4,
 "nbformat_minor": 5
}
